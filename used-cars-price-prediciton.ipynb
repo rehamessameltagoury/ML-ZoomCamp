{
 "cells": [
  {
   "cell_type": "markdown",
   "id": "f9d5a6ff",
   "metadata": {
    "papermill": {
     "duration": 0.009417,
     "end_time": "2023-10-02T17:11:30.127175",
     "exception": false,
     "start_time": "2023-10-02T17:11:30.117758",
     "status": "completed"
    },
    "tags": []
   },
   "source": [
    "# Used Cars Price Prediction Problem Statement:\n",
    "In this Problem we have data of some used cars and we need to create a model to predict how much should this sells \n",
    "## Data Columns\n",
    "* Index : should be dropped indicates ID\n",
    "* Name : The brand and model of the car.\n",
    "* Location : The location in which the car is being sold or is available for purchase.\n",
    "* Year: The year or edition of the model.\n",
    "* Kilometer_Driven: The total kilometres driven in the car by the previous owner(s) in KM.\n",
    "* Fuel_Type : The type of fuel used by the car. (Petrol, Diesel, Electric, CNG, LPG)\n",
    "* Transmission : The type of transmission used by the car. (Automatic / Manual)\n",
    "* Owner_Type : if he was the first owner or Second .. etc\n",
    "* Milage : The standard mileage offered by the car company in kmpl or km/kg\n",
    "* Engine : The displacement volume of the engine in CC.\n",
    "* Power : The maximum power of the engine in bhp.\n",
    "* Seats : The number of seats in the car.\n",
    "* New_Price : The price of a new car of the same model.\n",
    "* Price : the Price of the used car"
   ]
  },
  {
   "cell_type": "code",
   "execution_count": 1,
   "id": "88d0e0c9",
   "metadata": {
    "_cell_guid": "b1076dfc-b9ad-4769-8c92-a6c4dae69d19",
    "_uuid": "8f2839f25d086af736a60e9eeb907d3b93b6e0e5",
    "execution": {
     "iopub.execute_input": "2023-10-02T17:11:30.146859Z",
     "iopub.status.busy": "2023-10-02T17:11:30.146468Z",
     "iopub.status.idle": "2023-10-02T17:11:30.502386Z",
     "shell.execute_reply": "2023-10-02T17:11:30.501316Z"
    },
    "papermill": {
     "duration": 0.368529,
     "end_time": "2023-10-02T17:11:30.504509",
     "exception": false,
     "start_time": "2023-10-02T17:11:30.135980",
     "status": "completed"
    },
    "tags": []
   },
   "outputs": [
    {
     "name": "stdout",
     "output_type": "stream",
     "text": [
      "/kaggle/input/used-cars-price-prediction/test-data.csv\n",
      "/kaggle/input/used-cars-price-prediction/train-data.csv\n"
     ]
    }
   ],
   "source": [
    "# This Python 3 environment comes with many helpful analytics libraries installed\n",
    "# It is defined by the kaggle/python Docker image: https://github.com/kaggle/docker-python\n",
    "# For example, here's several helpful packages to load\n",
    "\n",
    "import numpy as np # linear algebra\n",
    "import pandas as pd # data processing, CSV file I/O (e.g. pd.read_csv)\n",
    "\n",
    "# Input data files are available in the read-only \"../input/\" directory\n",
    "# For example, running this (by clicking run or pressing Shift+Enter) will list all files under the input directory\n",
    "\n",
    "import os\n",
    "for dirname, _, filenames in os.walk('/kaggle/input'):\n",
    "    for filename in filenames:\n",
    "        print(os.path.join(dirname, filename))\n",
    "\n",
    "# You can write up to 20GB to the current directory (/kaggle/working/) that gets preserved as output when you create a version using \"Save & Run All\" \n",
    "# You can also write temporary files to /kaggle/temp/, but they won't be saved outside of the current session"
   ]
  },
  {
   "cell_type": "markdown",
   "id": "5d8a088f",
   "metadata": {
    "papermill": {
     "duration": 0.008259,
     "end_time": "2023-10-02T17:11:30.521308",
     "exception": false,
     "start_time": "2023-10-02T17:11:30.513049",
     "status": "completed"
    },
    "tags": []
   },
   "source": [
    "# Data Investegation "
   ]
  },
  {
   "cell_type": "code",
   "execution_count": 2,
   "id": "edd9c77b",
   "metadata": {
    "execution": {
     "iopub.execute_input": "2023-10-02T17:11:30.540360Z",
     "iopub.status.busy": "2023-10-02T17:11:30.539872Z",
     "iopub.status.idle": "2023-10-02T17:11:30.580653Z",
     "shell.execute_reply": "2023-10-02T17:11:30.579959Z"
    },
    "papermill": {
     "duration": 0.053029,
     "end_time": "2023-10-02T17:11:30.582869",
     "exception": false,
     "start_time": "2023-10-02T17:11:30.529840",
     "status": "completed"
    },
    "tags": []
   },
   "outputs": [],
   "source": [
    "df = pd.read_csv('/kaggle/input/used-cars-price-prediction/train-data.csv')"
   ]
  },
  {
   "cell_type": "code",
   "execution_count": 3,
   "id": "eb9f4fb8",
   "metadata": {
    "execution": {
     "iopub.execute_input": "2023-10-02T17:11:30.604882Z",
     "iopub.status.busy": "2023-10-02T17:11:30.604360Z",
     "iopub.status.idle": "2023-10-02T17:11:30.627982Z",
     "shell.execute_reply": "2023-10-02T17:11:30.627272Z"
    },
    "papermill": {
     "duration": 0.035357,
     "end_time": "2023-10-02T17:11:30.629709",
     "exception": false,
     "start_time": "2023-10-02T17:11:30.594352",
     "status": "completed"
    },
    "tags": []
   },
   "outputs": [
    {
     "data": {
      "text/html": [
       "<div>\n",
       "<style scoped>\n",
       "    .dataframe tbody tr th:only-of-type {\n",
       "        vertical-align: middle;\n",
       "    }\n",
       "\n",
       "    .dataframe tbody tr th {\n",
       "        vertical-align: top;\n",
       "    }\n",
       "\n",
       "    .dataframe thead th {\n",
       "        text-align: right;\n",
       "    }\n",
       "</style>\n",
       "<table border=\"1\" class=\"dataframe\">\n",
       "  <thead>\n",
       "    <tr style=\"text-align: right;\">\n",
       "      <th></th>\n",
       "      <th>Unnamed: 0</th>\n",
       "      <th>Name</th>\n",
       "      <th>Location</th>\n",
       "      <th>Year</th>\n",
       "      <th>Kilometers_Driven</th>\n",
       "      <th>Fuel_Type</th>\n",
       "      <th>Transmission</th>\n",
       "      <th>Owner_Type</th>\n",
       "      <th>Mileage</th>\n",
       "      <th>Engine</th>\n",
       "      <th>Power</th>\n",
       "      <th>Seats</th>\n",
       "      <th>New_Price</th>\n",
       "      <th>Price</th>\n",
       "    </tr>\n",
       "  </thead>\n",
       "  <tbody>\n",
       "    <tr>\n",
       "      <th>0</th>\n",
       "      <td>0</td>\n",
       "      <td>Maruti Wagon R LXI CNG</td>\n",
       "      <td>Mumbai</td>\n",
       "      <td>2010</td>\n",
       "      <td>72000</td>\n",
       "      <td>CNG</td>\n",
       "      <td>Manual</td>\n",
       "      <td>First</td>\n",
       "      <td>26.6 km/kg</td>\n",
       "      <td>998 CC</td>\n",
       "      <td>58.16 bhp</td>\n",
       "      <td>5.0</td>\n",
       "      <td>NaN</td>\n",
       "      <td>1.75</td>\n",
       "    </tr>\n",
       "    <tr>\n",
       "      <th>1</th>\n",
       "      <td>1</td>\n",
       "      <td>Hyundai Creta 1.6 CRDi SX Option</td>\n",
       "      <td>Pune</td>\n",
       "      <td>2015</td>\n",
       "      <td>41000</td>\n",
       "      <td>Diesel</td>\n",
       "      <td>Manual</td>\n",
       "      <td>First</td>\n",
       "      <td>19.67 kmpl</td>\n",
       "      <td>1582 CC</td>\n",
       "      <td>126.2 bhp</td>\n",
       "      <td>5.0</td>\n",
       "      <td>NaN</td>\n",
       "      <td>12.50</td>\n",
       "    </tr>\n",
       "    <tr>\n",
       "      <th>2</th>\n",
       "      <td>2</td>\n",
       "      <td>Honda Jazz V</td>\n",
       "      <td>Chennai</td>\n",
       "      <td>2011</td>\n",
       "      <td>46000</td>\n",
       "      <td>Petrol</td>\n",
       "      <td>Manual</td>\n",
       "      <td>First</td>\n",
       "      <td>18.2 kmpl</td>\n",
       "      <td>1199 CC</td>\n",
       "      <td>88.7 bhp</td>\n",
       "      <td>5.0</td>\n",
       "      <td>8.61 Lakh</td>\n",
       "      <td>4.50</td>\n",
       "    </tr>\n",
       "    <tr>\n",
       "      <th>3</th>\n",
       "      <td>3</td>\n",
       "      <td>Maruti Ertiga VDI</td>\n",
       "      <td>Chennai</td>\n",
       "      <td>2012</td>\n",
       "      <td>87000</td>\n",
       "      <td>Diesel</td>\n",
       "      <td>Manual</td>\n",
       "      <td>First</td>\n",
       "      <td>20.77 kmpl</td>\n",
       "      <td>1248 CC</td>\n",
       "      <td>88.76 bhp</td>\n",
       "      <td>7.0</td>\n",
       "      <td>NaN</td>\n",
       "      <td>6.00</td>\n",
       "    </tr>\n",
       "    <tr>\n",
       "      <th>4</th>\n",
       "      <td>4</td>\n",
       "      <td>Audi A4 New 2.0 TDI Multitronic</td>\n",
       "      <td>Coimbatore</td>\n",
       "      <td>2013</td>\n",
       "      <td>40670</td>\n",
       "      <td>Diesel</td>\n",
       "      <td>Automatic</td>\n",
       "      <td>Second</td>\n",
       "      <td>15.2 kmpl</td>\n",
       "      <td>1968 CC</td>\n",
       "      <td>140.8 bhp</td>\n",
       "      <td>5.0</td>\n",
       "      <td>NaN</td>\n",
       "      <td>17.74</td>\n",
       "    </tr>\n",
       "  </tbody>\n",
       "</table>\n",
       "</div>"
      ],
      "text/plain": [
       "   Unnamed: 0                              Name    Location  Year  \\\n",
       "0           0            Maruti Wagon R LXI CNG      Mumbai  2010   \n",
       "1           1  Hyundai Creta 1.6 CRDi SX Option        Pune  2015   \n",
       "2           2                      Honda Jazz V     Chennai  2011   \n",
       "3           3                 Maruti Ertiga VDI     Chennai  2012   \n",
       "4           4   Audi A4 New 2.0 TDI Multitronic  Coimbatore  2013   \n",
       "\n",
       "   Kilometers_Driven Fuel_Type Transmission Owner_Type     Mileage   Engine  \\\n",
       "0              72000       CNG       Manual      First  26.6 km/kg   998 CC   \n",
       "1              41000    Diesel       Manual      First  19.67 kmpl  1582 CC   \n",
       "2              46000    Petrol       Manual      First   18.2 kmpl  1199 CC   \n",
       "3              87000    Diesel       Manual      First  20.77 kmpl  1248 CC   \n",
       "4              40670    Diesel    Automatic     Second   15.2 kmpl  1968 CC   \n",
       "\n",
       "       Power  Seats  New_Price  Price  \n",
       "0  58.16 bhp    5.0        NaN   1.75  \n",
       "1  126.2 bhp    5.0        NaN  12.50  \n",
       "2   88.7 bhp    5.0  8.61 Lakh   4.50  \n",
       "3  88.76 bhp    7.0        NaN   6.00  \n",
       "4  140.8 bhp    5.0        NaN  17.74  "
      ]
     },
     "execution_count": 3,
     "metadata": {},
     "output_type": "execute_result"
    }
   ],
   "source": [
    "df.head()"
   ]
  },
  {
   "cell_type": "markdown",
   "id": "d87b76d9",
   "metadata": {
    "papermill": {
     "duration": 0.009195,
     "end_time": "2023-10-02T17:11:30.647810",
     "exception": false,
     "start_time": "2023-10-02T17:11:30.638615",
     "status": "completed"
    },
    "tags": []
   },
   "source": [
    "# EDA"
   ]
  },
  {
   "cell_type": "code",
   "execution_count": 4,
   "id": "a49fdd87",
   "metadata": {
    "execution": {
     "iopub.execute_input": "2023-10-02T17:11:30.667335Z",
     "iopub.status.busy": "2023-10-02T17:11:30.666937Z",
     "iopub.status.idle": "2023-10-02T17:11:30.674084Z",
     "shell.execute_reply": "2023-10-02T17:11:30.673046Z"
    },
    "papermill": {
     "duration": 0.019416,
     "end_time": "2023-10-02T17:11:30.676046",
     "exception": false,
     "start_time": "2023-10-02T17:11:30.656630",
     "status": "completed"
    },
    "tags": []
   },
   "outputs": [
    {
     "data": {
      "text/plain": [
       "Name            object\n",
       "Location        object\n",
       "Fuel_Type       object\n",
       "Transmission    object\n",
       "Owner_Type      object\n",
       "Mileage         object\n",
       "Engine          object\n",
       "Power           object\n",
       "New_Price       object\n",
       "dtype: object"
      ]
     },
     "execution_count": 4,
     "metadata": {},
     "output_type": "execute_result"
    }
   ],
   "source": [
    "df.dtypes[df.dtypes=='object']"
   ]
  },
  {
   "cell_type": "code",
   "execution_count": 5,
   "id": "b2960040",
   "metadata": {
    "execution": {
     "iopub.execute_input": "2023-10-02T17:11:30.695435Z",
     "iopub.status.busy": "2023-10-02T17:11:30.694935Z",
     "iopub.status.idle": "2023-10-02T17:11:30.699163Z",
     "shell.execute_reply": "2023-10-02T17:11:30.698543Z"
    },
    "papermill": {
     "duration": 0.0161,
     "end_time": "2023-10-02T17:11:30.701013",
     "exception": false,
     "start_time": "2023-10-02T17:11:30.684913",
     "status": "completed"
    },
    "tags": []
   },
   "outputs": [],
   "source": [
    "df.columns = df.columns.str.lower().str.replace(\" \",\"_\")"
   ]
  },
  {
   "cell_type": "code",
   "execution_count": 6,
   "id": "c59e29a6",
   "metadata": {
    "execution": {
     "iopub.execute_input": "2023-10-02T17:11:30.721673Z",
     "iopub.status.busy": "2023-10-02T17:11:30.720744Z",
     "iopub.status.idle": "2023-10-02T17:11:30.770892Z",
     "shell.execute_reply": "2023-10-02T17:11:30.770014Z"
    },
    "papermill": {
     "duration": 0.063257,
     "end_time": "2023-10-02T17:11:30.773184",
     "exception": false,
     "start_time": "2023-10-02T17:11:30.709927",
     "status": "completed"
    },
    "tags": []
   },
   "outputs": [],
   "source": [
    "# Standarize the values\n",
    "for col in list(df.dtypes[df.dtypes == 'object'].index):\n",
    "    df[col] = df[col].str.lower().str.replace(\" \",\"_\")\n",
    "    "
   ]
  },
  {
   "cell_type": "code",
   "execution_count": 7,
   "id": "010c519e",
   "metadata": {
    "execution": {
     "iopub.execute_input": "2023-10-02T17:11:30.793513Z",
     "iopub.status.busy": "2023-10-02T17:11:30.792868Z",
     "iopub.status.idle": "2023-10-02T17:11:30.805971Z",
     "shell.execute_reply": "2023-10-02T17:11:30.805308Z"
    },
    "papermill": {
     "duration": 0.025159,
     "end_time": "2023-10-02T17:11:30.807712",
     "exception": false,
     "start_time": "2023-10-02T17:11:30.782553",
     "status": "completed"
    },
    "tags": []
   },
   "outputs": [
    {
     "data": {
      "text/plain": [
       "unnamed:_0              0\n",
       "name                    0\n",
       "location                0\n",
       "year                    0\n",
       "kilometers_driven       0\n",
       "fuel_type               0\n",
       "transmission            0\n",
       "owner_type              0\n",
       "mileage                 2\n",
       "engine                 36\n",
       "power                  36\n",
       "seats                  42\n",
       "new_price            5195\n",
       "price                   0\n",
       "dtype: int64"
      ]
     },
     "execution_count": 7,
     "metadata": {},
     "output_type": "execute_result"
    }
   ],
   "source": [
    "df.isnull().sum()"
   ]
  },
  {
   "cell_type": "markdown",
   "id": "41a23909",
   "metadata": {
    "papermill": {
     "duration": 0.008846,
     "end_time": "2023-10-02T17:11:30.825807",
     "exception": false,
     "start_time": "2023-10-02T17:11:30.816961",
     "status": "completed"
    },
    "tags": []
   },
   "source": [
    "## Checking Duplicates"
   ]
  },
  {
   "cell_type": "code",
   "execution_count": 8,
   "id": "e39d5be0",
   "metadata": {
    "execution": {
     "iopub.execute_input": "2023-10-02T17:11:30.845665Z",
     "iopub.status.busy": "2023-10-02T17:11:30.845133Z",
     "iopub.status.idle": "2023-10-02T17:11:30.868682Z",
     "shell.execute_reply": "2023-10-02T17:11:30.867694Z"
    },
    "papermill": {
     "duration": 0.036026,
     "end_time": "2023-10-02T17:11:30.870758",
     "exception": false,
     "start_time": "2023-10-02T17:11:30.834732",
     "status": "completed"
    },
    "tags": []
   },
   "outputs": [
    {
     "data": {
      "text/plain": [
       "0"
      ]
     },
     "execution_count": 8,
     "metadata": {},
     "output_type": "execute_result"
    }
   ],
   "source": [
    "df.duplicated().sum()"
   ]
  },
  {
   "cell_type": "markdown",
   "id": "6b8c3f38",
   "metadata": {
    "papermill": {
     "duration": 0.008927,
     "end_time": "2023-10-02T17:11:30.945837",
     "exception": false,
     "start_time": "2023-10-02T17:11:30.936910",
     "status": "completed"
    },
    "tags": []
   },
   "source": [
    "## I dropped the NAN values it will be better if we filled it with mean or median "
   ]
  },
  {
   "cell_type": "code",
   "execution_count": 9,
   "id": "dde9d995",
   "metadata": {
    "execution": {
     "iopub.execute_input": "2023-10-02T17:11:30.965901Z",
     "iopub.status.busy": "2023-10-02T17:11:30.964952Z",
     "iopub.status.idle": "2023-10-02T17:11:30.978629Z",
     "shell.execute_reply": "2023-10-02T17:11:30.977715Z"
    },
    "papermill": {
     "duration": 0.025925,
     "end_time": "2023-10-02T17:11:30.980704",
     "exception": false,
     "start_time": "2023-10-02T17:11:30.954779",
     "status": "completed"
    },
    "tags": []
   },
   "outputs": [],
   "source": [
    "df.dropna(inplace=True)"
   ]
  },
  {
   "cell_type": "markdown",
   "id": "ea532b67",
   "metadata": {
    "papermill": {
     "duration": 0.008788,
     "end_time": "2023-10-02T17:11:30.999048",
     "exception": false,
     "start_time": "2023-10-02T17:11:30.990260",
     "status": "completed"
    },
    "tags": []
   },
   "source": [
    "### Plotting Target"
   ]
  },
  {
   "cell_type": "code",
   "execution_count": 10,
   "id": "1e39b671",
   "metadata": {
    "execution": {
     "iopub.execute_input": "2023-10-02T17:11:31.019149Z",
     "iopub.status.busy": "2023-10-02T17:11:31.018822Z",
     "iopub.status.idle": "2023-10-02T17:11:32.883932Z",
     "shell.execute_reply": "2023-10-02T17:11:32.882885Z"
    },
    "papermill": {
     "duration": 1.87777,
     "end_time": "2023-10-02T17:11:32.886072",
     "exception": false,
     "start_time": "2023-10-02T17:11:31.008302",
     "status": "completed"
    },
    "tags": []
   },
   "outputs": [
    {
     "data": {
      "text/plain": [
       "<Axes: xlabel='price', ylabel='Count'>"
      ]
     },
     "execution_count": 10,
     "metadata": {},
     "output_type": "execute_result"
    },
    {
     "data": {
      "image/png": "[encoded data removed]",
      "text/plain": [
       "<Figure size 640x480 with 1 Axes>"
      ]
     },
     "metadata": {},
     "output_type": "display_data"
    }
   ],
   "source": [
    "\n",
    "import matplotlib.pyplot as plt\n",
    "import seaborn as sns\n",
    "\n",
    "%matplotlib inline\n",
    "sns.histplot(df.price)"
   ]
  },
  {
   "cell_type": "markdown",
   "id": "af914a99",
   "metadata": {
    "papermill": {
     "duration": 0.009473,
     "end_time": "2023-10-02T17:11:32.905445",
     "exception": false,
     "start_time": "2023-10-02T17:11:32.895972",
     "status": "completed"
    },
    "tags": []
   },
   "source": [
    "## Long Tail Diagram need to get rid of it through log function"
   ]
  },
  {
   "cell_type": "code",
   "execution_count": 11,
   "id": "e8cf8472",
   "metadata": {
    "execution": {
     "iopub.execute_input": "2023-10-02T17:11:32.926751Z",
     "iopub.status.busy": "2023-10-02T17:11:32.925973Z",
     "iopub.status.idle": "2023-10-02T17:11:32.931648Z",
     "shell.execute_reply": "2023-10-02T17:11:32.930735Z"
    },
    "papermill": {
     "duration": 0.018524,
     "end_time": "2023-10-02T17:11:32.933657",
     "exception": false,
     "start_time": "2023-10-02T17:11:32.915133",
     "status": "completed"
    },
    "tags": []
   },
   "outputs": [],
   "source": [
    "target = np.log1p(df.price)"
   ]
  },
  {
   "cell_type": "code",
   "execution_count": 12,
   "id": "efffb4b8",
   "metadata": {
    "execution": {
     "iopub.execute_input": "2023-10-02T17:11:32.954135Z",
     "iopub.status.busy": "2023-10-02T17:11:32.953826Z",
     "iopub.status.idle": "2023-10-02T17:11:33.236293Z",
     "shell.execute_reply": "2023-10-02T17:11:33.235448Z"
    },
    "papermill": {
     "duration": 0.294961,
     "end_time": "2023-10-02T17:11:33.238299",
     "exception": false,
     "start_time": "2023-10-02T17:11:32.943338",
     "status": "completed"
    },
    "tags": []
   },
   "outputs": [
    {
     "data": {
      "text/plain": [
       "<Axes: xlabel='price', ylabel='Count'>"
      ]
     },
     "execution_count": 12,
     "metadata": {},
     "output_type": "execute_result"
    },
    {
     "data": {
      "image/png": "[encoded data removed]",
      "text/plain": [
       "<Figure size 640x480 with 1 Axes>"
      ]
     },
     "metadata": {},
     "output_type": "display_data"
    }
   ],
   "source": [
    "sns.histplot(target , bins=50)"
   ]
  },
  {
   "cell_type": "markdown",
   "id": "c0e387fa",
   "metadata": {
    "papermill": {
     "duration": 0.009844,
     "end_time": "2023-10-02T17:11:33.258414",
     "exception": false,
     "start_time": "2023-10-02T17:11:33.248570",
     "status": "completed"
    },
    "tags": []
   },
   "source": [
    "### Got the Normal distribution diagram which will help the model prediction to be better"
   ]
  },
  {
   "cell_type": "code",
   "execution_count": 13,
   "id": "69ea8543",
   "metadata": {
    "execution": {
     "iopub.execute_input": "2023-10-02T17:11:33.279587Z",
     "iopub.status.busy": "2023-10-02T17:11:33.279261Z",
     "iopub.status.idle": "2023-10-02T17:11:33.286503Z",
     "shell.execute_reply": "2023-10-02T17:11:33.285682Z"
    },
    "papermill": {
     "duration": 0.020088,
     "end_time": "2023-10-02T17:11:33.288393",
     "exception": false,
     "start_time": "2023-10-02T17:11:33.268305",
     "status": "completed"
    },
    "tags": []
   },
   "outputs": [
    {
     "data": {
      "text/plain": [
       "name            object\n",
       "location        object\n",
       "fuel_type       object\n",
       "transmission    object\n",
       "owner_type      object\n",
       "mileage         object\n",
       "engine          object\n",
       "power           object\n",
       "new_price       object\n",
       "dtype: object"
      ]
     },
     "execution_count": 13,
     "metadata": {},
     "output_type": "execute_result"
    }
   ],
   "source": [
    "df.dtypes[df.dtypes=='object']"
   ]
  },
  {
   "cell_type": "code",
   "execution_count": 14,
   "id": "ff666918",
   "metadata": {
    "execution": {
     "iopub.execute_input": "2023-10-02T17:11:33.310534Z",
     "iopub.status.busy": "2023-10-02T17:11:33.309930Z",
     "iopub.status.idle": "2023-10-02T17:11:33.318827Z",
     "shell.execute_reply": "2023-10-02T17:11:33.317824Z"
    },
    "papermill": {
     "duration": 0.022227,
     "end_time": "2023-10-02T17:11:33.320790",
     "exception": false,
     "start_time": "2023-10-02T17:11:33.298563",
     "status": "completed"
    },
    "tags": []
   },
   "outputs": [
    {
     "data": {
      "text/plain": [
       "fuel_type\n",
       "diesel    443\n",
       "petrol    371\n",
       "cng         9\n",
       "Name: count, dtype: int64"
      ]
     },
     "execution_count": 14,
     "metadata": {},
     "output_type": "execute_result"
    }
   ],
   "source": [
    "df.fuel_type.value_counts() "
   ]
  },
  {
   "cell_type": "code",
   "execution_count": 15,
   "id": "be4871c5",
   "metadata": {
    "execution": {
     "iopub.execute_input": "2023-10-02T17:11:33.342501Z",
     "iopub.status.busy": "2023-10-02T17:11:33.342109Z",
     "iopub.status.idle": "2023-10-02T17:11:33.350757Z",
     "shell.execute_reply": "2023-10-02T17:11:33.349735Z"
    },
    "papermill": {
     "duration": 0.022011,
     "end_time": "2023-10-02T17:11:33.352815",
     "exception": false,
     "start_time": "2023-10-02T17:11:33.330804",
     "status": "completed"
    },
    "tags": []
   },
   "outputs": [
    {
     "data": {
      "text/plain": [
       "transmission\n",
       "manual       512\n",
       "automatic    311\n",
       "Name: count, dtype: int64"
      ]
     },
     "execution_count": 15,
     "metadata": {},
     "output_type": "execute_result"
    }
   ],
   "source": [
    "df.transmission.value_counts() "
   ]
  },
  {
   "cell_type": "code",
   "execution_count": 16,
   "id": "915eac6a",
   "metadata": {
    "execution": {
     "iopub.execute_input": "2023-10-02T17:11:33.375246Z",
     "iopub.status.busy": "2023-10-02T17:11:33.374613Z",
     "iopub.status.idle": "2023-10-02T17:11:33.381135Z",
     "shell.execute_reply": "2023-10-02T17:11:33.380448Z"
    },
    "papermill": {
     "duration": 0.019859,
     "end_time": "2023-10-02T17:11:33.383014",
     "exception": false,
     "start_time": "2023-10-02T17:11:33.363155",
     "status": "completed"
    },
    "tags": []
   },
   "outputs": [
    {
     "data": {
      "text/plain": [
       "owner_type\n",
       "first     765\n",
       "second     55\n",
       "third       3\n",
       "Name: count, dtype: int64"
      ]
     },
     "execution_count": 16,
     "metadata": {},
     "output_type": "execute_result"
    }
   ],
   "source": [
    "df.owner_type.value_counts()"
   ]
  },
  {
   "cell_type": "code",
   "execution_count": 17,
   "id": "b4f5e8df",
   "metadata": {
    "execution": {
     "iopub.execute_input": "2023-10-02T17:11:33.406322Z",
     "iopub.status.busy": "2023-10-02T17:11:33.405351Z",
     "iopub.status.idle": "2023-10-02T17:11:33.413586Z",
     "shell.execute_reply": "2023-10-02T17:11:33.412576Z"
    },
    "papermill": {
     "duration": 0.021677,
     "end_time": "2023-10-02T17:11:33.415488",
     "exception": false,
     "start_time": "2023-10-02T17:11:33.393811",
     "status": "completed"
    },
    "tags": []
   },
   "outputs": [
    {
     "data": {
      "text/plain": [
       "mileage\n",
       "24.3_kmpl      36\n",
       "18.9_kmpl      32\n",
       "22.5_kmpl      28\n",
       "28.4_kmpl      27\n",
       "11.36_kmpl     23\n",
       "               ..\n",
       "32.26_km/kg     1\n",
       "21.72_kmpl      1\n",
       "17.84_kmpl      1\n",
       "12.62_kmpl      1\n",
       "13.7_kmpl       1\n",
       "Name: count, Length: 152, dtype: int64"
      ]
     },
     "execution_count": 17,
     "metadata": {},
     "output_type": "execute_result"
    }
   ],
   "source": [
    "df.mileage.value_counts()"
   ]
  },
  {
   "cell_type": "code",
   "execution_count": 18,
   "id": "2cd93ca2",
   "metadata": {
    "execution": {
     "iopub.execute_input": "2023-10-02T17:11:33.439914Z",
     "iopub.status.busy": "2023-10-02T17:11:33.438774Z",
     "iopub.status.idle": "2023-10-02T17:11:33.447785Z",
     "shell.execute_reply": "2023-10-02T17:11:33.446769Z"
    },
    "papermill": {
     "duration": 0.023252,
     "end_time": "2023-10-02T17:11:33.449764",
     "exception": false,
     "start_time": "2023-10-02T17:11:33.426512",
     "status": "completed"
    },
    "tags": []
   },
   "outputs": [
    {
     "data": {
      "text/plain": [
       "engine\n",
       "1248_cc    92\n",
       "1197_cc    81\n",
       "998_cc     64\n",
       "1498_cc    55\n",
       "1995_cc    53\n",
       "2755_cc    37\n",
       "1497_cc    35\n",
       "1199_cc    33\n",
       "1198_cc    21\n",
       "1798_cc    20\n",
       "2393_cc    20\n",
       "1591_cc    20\n",
       "1968_cc    19\n",
       "1582_cc    17\n",
       "1461_cc    17\n",
       "799_cc     16\n",
       "2143_cc    15\n",
       "1193_cc    14\n",
       "1956_cc    14\n",
       "1999_cc    13\n",
       "1196_cc    12\n",
       "999_cc     11\n",
       "2987_cc    11\n",
       "1186_cc    10\n",
       "2993_cc    10\n",
       "1598_cc    10\n",
       "2179_cc    10\n",
       "1364_cc     9\n",
       "1950_cc     8\n",
       "1496_cc     8\n",
       "1998_cc     8\n",
       "2523_cc     7\n",
       "2477_cc     6\n",
       "1462_cc     6\n",
       "2967_cc     4\n",
       "2996_cc     4\n",
       "1194_cc     3\n",
       "1969_cc     3\n",
       "1493_cc     3\n",
       "2894_cc     2\n",
       "1396_cc     2\n",
       "2489_cc     2\n",
       "2498_cc     2\n",
       "1991_cc     2\n",
       "2198_cc     1\n",
       "1997_cc     1\n",
       "1086_cc     1\n",
       "2925_cc     1\n",
       "4951_cc     1\n",
       "2487_cc     1\n",
       "1984_cc     1\n",
       "1395_cc     1\n",
       "2995_cc     1\n",
       "2999_cc     1\n",
       "1595_cc     1\n",
       "2694_cc     1\n",
       "1368_cc     1\n",
       "1047_cc     1\n",
       "Name: count, dtype: int64"
      ]
     },
     "execution_count": 18,
     "metadata": {},
     "output_type": "execute_result"
    }
   ],
   "source": [
    "df.engine.value_counts()"
   ]
  },
  {
   "cell_type": "code",
   "execution_count": 19,
   "id": "7adb9d8c",
   "metadata": {
    "execution": {
     "iopub.execute_input": "2023-10-02T17:11:33.472764Z",
     "iopub.status.busy": "2023-10-02T17:11:33.471986Z",
     "iopub.status.idle": "2023-10-02T17:11:33.480922Z",
     "shell.execute_reply": "2023-10-02T17:11:33.479922Z"
    },
    "papermill": {
     "duration": 0.022559,
     "end_time": "2023-10-02T17:11:33.482845",
     "exception": false,
     "start_time": "2023-10-02T17:11:33.460286",
     "status": "completed"
    },
    "tags": []
   },
   "outputs": [
    {
     "data": {
      "text/plain": [
       "power\n",
       "190_bhp       55\n",
       "81.86_bhp     41\n",
       "88.5_bhp      39\n",
       "67.04_bhp     38\n",
       "88.7_bhp      32\n",
       "              ..\n",
       "174.57_bhp     1\n",
       "67.05_bhp      1\n",
       "99.6_bhp       1\n",
       "58.2_bhp       1\n",
       "103_bhp        1\n",
       "Name: count, Length: 115, dtype: int64"
      ]
     },
     "execution_count": 19,
     "metadata": {},
     "output_type": "execute_result"
    }
   ],
   "source": [
    "df.power.value_counts()"
   ]
  },
  {
   "cell_type": "code",
   "execution_count": 20,
   "id": "6906194b",
   "metadata": {
    "execution": {
     "iopub.execute_input": "2023-10-02T17:11:33.505564Z",
     "iopub.status.busy": "2023-10-02T17:11:33.505198Z",
     "iopub.status.idle": "2023-10-02T17:11:33.513650Z",
     "shell.execute_reply": "2023-10-02T17:11:33.512699Z"
    },
    "papermill": {
     "duration": 0.022084,
     "end_time": "2023-10-02T17:11:33.515511",
     "exception": false,
     "start_time": "2023-10-02T17:11:33.493427",
     "status": "completed"
    },
    "tags": []
   },
   "outputs": [
    {
     "data": {
      "text/plain": [
       "new_price\n",
       "95.13_lakh    6\n",
       "4.78_lakh     6\n",
       "63.71_lakh    6\n",
       "11.26_lakh    5\n",
       "44.28_lakh    5\n",
       "             ..\n",
       "39.6_lakh     1\n",
       "1.27_cr       1\n",
       "38.11_lakh    1\n",
       "8.12_lakh     1\n",
       "9.93_lakh     1\n",
       "Name: count, Length: 540, dtype: int64"
      ]
     },
     "execution_count": 20,
     "metadata": {},
     "output_type": "execute_result"
    }
   ],
   "source": [
    "df.new_price.value_counts()"
   ]
  },
  {
   "cell_type": "markdown",
   "id": "873e7c54",
   "metadata": {
    "papermill": {
     "duration": 0.010336,
     "end_time": "2023-10-02T17:11:33.537008",
     "exception": false,
     "start_time": "2023-10-02T17:11:33.526672",
     "status": "completed"
    },
    "tags": []
   },
   "source": [
    "# Data Encoding"
   ]
  },
  {
   "cell_type": "code",
   "execution_count": 21,
   "id": "ae882e78",
   "metadata": {
    "execution": {
     "iopub.execute_input": "2023-10-02T17:11:33.560222Z",
     "iopub.status.busy": "2023-10-02T17:11:33.559130Z",
     "iopub.status.idle": "2023-10-02T17:11:33.566910Z",
     "shell.execute_reply": "2023-10-02T17:11:33.566274Z"
    },
    "papermill": {
     "duration": 0.021168,
     "end_time": "2023-10-02T17:11:33.568708",
     "exception": false,
     "start_time": "2023-10-02T17:11:33.547540",
     "status": "completed"
    },
    "tags": []
   },
   "outputs": [],
   "source": [
    "df.owner_type = df.owner_type.map({'first':1, 'second':2, 'third':3, 'fourth & above':4})\n",
    "df.fuel_type = df.fuel_type.map({'diesel':1, 'petrol':2, 'cng':3})\n",
    "df.transmission = df.transmission.map({'manual':1, 'automatic':2})"
   ]
  },
  {
   "cell_type": "code",
   "execution_count": 22,
   "id": "3d752122",
   "metadata": {
    "execution": {
     "iopub.execute_input": "2023-10-02T17:11:33.591728Z",
     "iopub.status.busy": "2023-10-02T17:11:33.590829Z",
     "iopub.status.idle": "2023-10-02T17:11:33.600713Z",
     "shell.execute_reply": "2023-10-02T17:11:33.599598Z"
    },
    "papermill": {
     "duration": 0.023339,
     "end_time": "2023-10-02T17:11:33.602672",
     "exception": false,
     "start_time": "2023-10-02T17:11:33.579333",
     "status": "completed"
    },
    "tags": []
   },
   "outputs": [],
   "source": [
    "df['engine'] = df['engine'].str.rstrip('_cc')\n",
    "df['power'] = df['power'].str.rstrip('_bhp')\n",
    "df['mileage'] = df['mileage'].str.rstrip('_kmpl')\n",
    "df['mileage'] = df['mileage'].str.rstrip('_km/kg').astype('float')"
   ]
  },
  {
   "cell_type": "code",
   "execution_count": 23,
   "id": "6857e0c5",
   "metadata": {
    "execution": {
     "iopub.execute_input": "2023-10-02T17:11:33.626238Z",
     "iopub.status.busy": "2023-10-02T17:11:33.625901Z",
     "iopub.status.idle": "2023-10-02T17:11:33.631823Z",
     "shell.execute_reply": "2023-10-02T17:11:33.631090Z"
    },
    "papermill": {
     "duration": 0.019141,
     "end_time": "2023-10-02T17:11:33.633517",
     "exception": false,
     "start_time": "2023-10-02T17:11:33.614376",
     "status": "completed"
    },
    "tags": []
   },
   "outputs": [],
   "source": [
    "df['engine'] = df['engine'].astype('float')\n",
    "df['power']=pd.to_numeric(df['power'] , errors = 'coerce') "
   ]
  },
  {
   "cell_type": "code",
   "execution_count": 24,
   "id": "09e3eb6c",
   "metadata": {
    "execution": {
     "iopub.execute_input": "2023-10-02T17:11:33.656040Z",
     "iopub.status.busy": "2023-10-02T17:11:33.655702Z",
     "iopub.status.idle": "2023-10-02T17:11:33.670461Z",
     "shell.execute_reply": "2023-10-02T17:11:33.669821Z"
    },
    "papermill": {
     "duration": 0.028017,
     "end_time": "2023-10-02T17:11:33.672110",
     "exception": false,
     "start_time": "2023-10-02T17:11:33.644093",
     "status": "completed"
    },
    "tags": []
   },
   "outputs": [
    {
     "data": {
      "text/html": [
       "<div>\n",
       "<style scoped>\n",
       "    .dataframe tbody tr th:only-of-type {\n",
       "        vertical-align: middle;\n",
       "    }\n",
       "\n",
       "    .dataframe tbody tr th {\n",
       "        vertical-align: top;\n",
       "    }\n",
       "\n",
       "    .dataframe thead th {\n",
       "        text-align: right;\n",
       "    }\n",
       "</style>\n",
       "<table border=\"1\" class=\"dataframe\">\n",
       "  <thead>\n",
       "    <tr style=\"text-align: right;\">\n",
       "      <th></th>\n",
       "      <th>unnamed:_0</th>\n",
       "      <th>name</th>\n",
       "      <th>location</th>\n",
       "      <th>year</th>\n",
       "      <th>kilometers_driven</th>\n",
       "      <th>fuel_type</th>\n",
       "      <th>transmission</th>\n",
       "      <th>owner_type</th>\n",
       "      <th>mileage</th>\n",
       "      <th>engine</th>\n",
       "      <th>power</th>\n",
       "      <th>seats</th>\n",
       "      <th>new_price</th>\n",
       "      <th>price</th>\n",
       "    </tr>\n",
       "  </thead>\n",
       "  <tbody>\n",
       "    <tr>\n",
       "      <th>2</th>\n",
       "      <td>2</td>\n",
       "      <td>honda_jazz_v</td>\n",
       "      <td>chennai</td>\n",
       "      <td>2011</td>\n",
       "      <td>46000</td>\n",
       "      <td>2</td>\n",
       "      <td>1</td>\n",
       "      <td>1</td>\n",
       "      <td>18.20</td>\n",
       "      <td>1199.0</td>\n",
       "      <td>88.70</td>\n",
       "      <td>5.0</td>\n",
       "      <td>8.61_lakh</td>\n",
       "      <td>4.50</td>\n",
       "    </tr>\n",
       "    <tr>\n",
       "      <th>7</th>\n",
       "      <td>7</td>\n",
       "      <td>toyota_innova_crysta_2.8_gx_at_8s</td>\n",
       "      <td>mumbai</td>\n",
       "      <td>2016</td>\n",
       "      <td>36000</td>\n",
       "      <td>1</td>\n",
       "      <td>2</td>\n",
       "      <td>1</td>\n",
       "      <td>11.36</td>\n",
       "      <td>2755.0</td>\n",
       "      <td>171.50</td>\n",
       "      <td>8.0</td>\n",
       "      <td>21_lakh</td>\n",
       "      <td>17.50</td>\n",
       "    </tr>\n",
       "    <tr>\n",
       "      <th>10</th>\n",
       "      <td>10</td>\n",
       "      <td>maruti_ciaz_zeta</td>\n",
       "      <td>kochi</td>\n",
       "      <td>2018</td>\n",
       "      <td>25692</td>\n",
       "      <td>2</td>\n",
       "      <td>1</td>\n",
       "      <td>1</td>\n",
       "      <td>21.56</td>\n",
       "      <td>1462.0</td>\n",
       "      <td>103.25</td>\n",
       "      <td>5.0</td>\n",
       "      <td>10.65_lakh</td>\n",
       "      <td>9.95</td>\n",
       "    </tr>\n",
       "    <tr>\n",
       "      <th>15</th>\n",
       "      <td>15</td>\n",
       "      <td>mitsubishi_pajero_sport_4x4</td>\n",
       "      <td>delhi</td>\n",
       "      <td>2014</td>\n",
       "      <td>110000</td>\n",
       "      <td>1</td>\n",
       "      <td>1</td>\n",
       "      <td>1</td>\n",
       "      <td>13.50</td>\n",
       "      <td>2477.0</td>\n",
       "      <td>175.56</td>\n",
       "      <td>7.0</td>\n",
       "      <td>32.01_lakh</td>\n",
       "      <td>15.00</td>\n",
       "    </tr>\n",
       "    <tr>\n",
       "      <th>20</th>\n",
       "      <td>20</td>\n",
       "      <td>bmw_3_series_320d</td>\n",
       "      <td>kochi</td>\n",
       "      <td>2014</td>\n",
       "      <td>32982</td>\n",
       "      <td>1</td>\n",
       "      <td>2</td>\n",
       "      <td>1</td>\n",
       "      <td>22.69</td>\n",
       "      <td>1995.0</td>\n",
       "      <td>190.00</td>\n",
       "      <td>5.0</td>\n",
       "      <td>47.87_lakh</td>\n",
       "      <td>18.55</td>\n",
       "    </tr>\n",
       "  </tbody>\n",
       "</table>\n",
       "</div>"
      ],
      "text/plain": [
       "    unnamed:_0                               name location  year  \\\n",
       "2            2                       honda_jazz_v  chennai  2011   \n",
       "7            7  toyota_innova_crysta_2.8_gx_at_8s   mumbai  2016   \n",
       "10          10                   maruti_ciaz_zeta    kochi  2018   \n",
       "15          15        mitsubishi_pajero_sport_4x4    delhi  2014   \n",
       "20          20                  bmw_3_series_320d    kochi  2014   \n",
       "\n",
       "    kilometers_driven  fuel_type  transmission  owner_type  mileage  engine  \\\n",
       "2               46000          2             1           1    18.20  1199.0   \n",
       "7               36000          1             2           1    11.36  2755.0   \n",
       "10              25692          2             1           1    21.56  1462.0   \n",
       "15             110000          1             1           1    13.50  2477.0   \n",
       "20              32982          1             2           1    22.69  1995.0   \n",
       "\n",
       "     power  seats   new_price  price  \n",
       "2    88.70    5.0   8.61_lakh   4.50  \n",
       "7   171.50    8.0     21_lakh  17.50  \n",
       "10  103.25    5.0  10.65_lakh   9.95  \n",
       "15  175.56    7.0  32.01_lakh  15.00  \n",
       "20  190.00    5.0  47.87_lakh  18.55  "
      ]
     },
     "execution_count": 24,
     "metadata": {},
     "output_type": "execute_result"
    }
   ],
   "source": [
    "df.head()"
   ]
  },
  {
   "cell_type": "code",
   "execution_count": 25,
   "id": "ce5987ca",
   "metadata": {
    "execution": {
     "iopub.execute_input": "2023-10-02T17:11:33.696334Z",
     "iopub.status.busy": "2023-10-02T17:11:33.695189Z",
     "iopub.status.idle": "2023-10-02T17:11:33.702386Z",
     "shell.execute_reply": "2023-10-02T17:11:33.701714Z"
    },
    "papermill": {
     "duration": 0.021175,
     "end_time": "2023-10-02T17:11:33.704259",
     "exception": false,
     "start_time": "2023-10-02T17:11:33.683084",
     "status": "completed"
    },
    "tags": []
   },
   "outputs": [],
   "source": [
    "df['new_price'] = df['new_price'].str.rstrip('_lakh')\n",
    "df['new_price'] = df['new_price'].str.rstrip('_cr').astype('float')"
   ]
  },
  {
   "cell_type": "code",
   "execution_count": 26,
   "id": "e5d3fe9f",
   "metadata": {
    "execution": {
     "iopub.execute_input": "2023-10-02T17:11:33.728108Z",
     "iopub.status.busy": "2023-10-02T17:11:33.727115Z",
     "iopub.status.idle": "2023-10-02T17:11:33.734860Z",
     "shell.execute_reply": "2023-10-02T17:11:33.733916Z"
    },
    "papermill": {
     "duration": 0.021599,
     "end_time": "2023-10-02T17:11:33.736729",
     "exception": false,
     "start_time": "2023-10-02T17:11:33.715130",
     "status": "completed"
    },
    "tags": []
   },
   "outputs": [
    {
     "data": {
      "text/plain": [
       "unnamed:_0             int64\n",
       "name                  object\n",
       "location              object\n",
       "year                   int64\n",
       "kilometers_driven      int64\n",
       "fuel_type              int64\n",
       "transmission           int64\n",
       "owner_type             int64\n",
       "mileage              float64\n",
       "engine               float64\n",
       "power                float64\n",
       "seats                float64\n",
       "new_price            float64\n",
       "price                float64\n",
       "dtype: object"
      ]
     },
     "execution_count": 26,
     "metadata": {},
     "output_type": "execute_result"
    }
   ],
   "source": [
    "df.dtypes"
   ]
  },
  {
   "cell_type": "code",
   "execution_count": 27,
   "id": "5bbfe585",
   "metadata": {
    "execution": {
     "iopub.execute_input": "2023-10-02T17:11:33.760368Z",
     "iopub.status.busy": "2023-10-02T17:11:33.759708Z",
     "iopub.status.idle": "2023-10-02T17:11:33.767955Z",
     "shell.execute_reply": "2023-10-02T17:11:33.767287Z"
    },
    "papermill": {
     "duration": 0.022247,
     "end_time": "2023-10-02T17:11:33.769897",
     "exception": false,
     "start_time": "2023-10-02T17:11:33.747650",
     "status": "completed"
    },
    "tags": []
   },
   "outputs": [],
   "source": [
    "df.head()\n",
    "df.drop(\"price\",inplace=True,axis=1)\n",
    "df.drop(\"name\",inplace=True,axis=1)\n",
    "df.drop(\"location\",inplace=True,axis=1)"
   ]
  },
  {
   "cell_type": "markdown",
   "id": "c93469aa",
   "metadata": {
    "papermill": {
     "duration": 0.010563,
     "end_time": "2023-10-02T17:11:33.791388",
     "exception": false,
     "start_time": "2023-10-02T17:11:33.780825",
     "status": "completed"
    },
    "tags": []
   },
   "source": [
    "# Data Splitting"
   ]
  },
  {
   "cell_type": "code",
   "execution_count": 28,
   "id": "4f3c1802",
   "metadata": {
    "execution": {
     "iopub.execute_input": "2023-10-02T17:11:33.815252Z",
     "iopub.status.busy": "2023-10-02T17:11:33.814615Z",
     "iopub.status.idle": "2023-10-02T17:11:34.068519Z",
     "shell.execute_reply": "2023-10-02T17:11:34.067415Z"
    },
    "papermill": {
     "duration": 0.268635,
     "end_time": "2023-10-02T17:11:34.070919",
     "exception": false,
     "start_time": "2023-10-02T17:11:33.802284",
     "status": "completed"
    },
    "tags": []
   },
   "outputs": [],
   "source": [
    "from sklearn.model_selection import train_test_split\n",
    "x_train,x_val,y_train,y_val = train_test_split(df,target,test_size=0.2,random_state=42)"
   ]
  },
  {
   "cell_type": "markdown",
   "id": "d0cd2110",
   "metadata": {
    "papermill": {
     "duration": 0.011669,
     "end_time": "2023-10-02T17:11:34.093827",
     "exception": false,
     "start_time": "2023-10-02T17:11:34.082158",
     "status": "completed"
    },
    "tags": []
   },
   "source": [
    "# Model Training"
   ]
  },
  {
   "cell_type": "code",
   "execution_count": 29,
   "id": "39fbadbd",
   "metadata": {
    "execution": {
     "iopub.execute_input": "2023-10-02T17:11:34.117886Z",
     "iopub.status.busy": "2023-10-02T17:11:34.117280Z",
     "iopub.status.idle": "2023-10-02T17:11:34.254067Z",
     "shell.execute_reply": "2023-10-02T17:11:34.253035Z"
    },
    "papermill": {
     "duration": 0.151527,
     "end_time": "2023-10-02T17:11:34.256421",
     "exception": false,
     "start_time": "2023-10-02T17:11:34.104894",
     "status": "completed"
    },
    "tags": []
   },
   "outputs": [
    {
     "data": {
      "text/html": [
       "<style>#sk-container-id-1 {color: black;background-color: white;}#sk-container-id-1 pre{padding: 0;}#sk-container-id-1 div.sk-toggleable {background-color: white;}#sk-container-id-1 label.sk-toggleable__label {cursor: pointer;display: block;width: 100%;margin-bottom: 0;padding: 0.3em;box-sizing: border-box;text-align: center;}#sk-container-id-1 label.sk-toggleable__label-arrow:before {content: \"▸\";float: left;margin-right: 0.25em;color: #696969;}#sk-container-id-1 label.sk-toggleable__label-arrow:hover:before {color: black;}#sk-container-id-1 div.sk-estimator:hover label.sk-toggleable__label-arrow:before {color: black;}#sk-container-id-1 div.sk-toggleable__content {max-height: 0;max-width: 0;overflow: hidden;text-align: left;background-color: #f0f8ff;}#sk-container-id-1 div.sk-toggleable__content pre {margin: 0.2em;color: black;border-radius: 0.25em;background-color: #f0f8ff;}#sk-container-id-1 input.sk-toggleable__control:checked~div.sk-toggleable__content {max-height: 200px;max-width: 100%;overflow: auto;}#sk-container-id-1 input.sk-toggleable__control:checked~label.sk-toggleable__label-arrow:before {content: \"▾\";}#sk-container-id-1 div.sk-estimator input.sk-toggleable__control:checked~label.sk-toggleable__label {background-color: #d4ebff;}#sk-container-id-1 div.sk-label input.sk-toggleable__control:checked~label.sk-toggleable__label {background-color: #d4ebff;}#sk-container-id-1 input.sk-hidden--visually {border: 0;clip: rect(1px 1px 1px 1px);clip: rect(1px, 1px, 1px, 1px);height: 1px;margin: -1px;overflow: hidden;padding: 0;position: absolute;width: 1px;}#sk-container-id-1 div.sk-estimator {font-family: monospace;background-color: #f0f8ff;border: 1px dotted black;border-radius: 0.25em;box-sizing: border-box;margin-bottom: 0.5em;}#sk-container-id-1 div.sk-estimator:hover {background-color: #d4ebff;}#sk-container-id-1 div.sk-parallel-item::after {content: \"\";width: 100%;border-bottom: 1px solid gray;flex-grow: 1;}#sk-container-id-1 div.sk-label:hover label.sk-toggleable__label {background-color: #d4ebff;}#sk-container-id-1 div.sk-serial::before {content: \"\";position: absolute;border-left: 1px solid gray;box-sizing: border-box;top: 0;bottom: 0;left: 50%;z-index: 0;}#sk-container-id-1 div.sk-serial {display: flex;flex-direction: column;align-items: center;background-color: white;padding-right: 0.2em;padding-left: 0.2em;position: relative;}#sk-container-id-1 div.sk-item {position: relative;z-index: 1;}#sk-container-id-1 div.sk-parallel {display: flex;align-items: stretch;justify-content: center;background-color: white;position: relative;}#sk-container-id-1 div.sk-item::before, #sk-container-id-1 div.sk-parallel-item::before {content: \"\";position: absolute;border-left: 1px solid gray;box-sizing: border-box;top: 0;bottom: 0;left: 50%;z-index: -1;}#sk-container-id-1 div.sk-parallel-item {display: flex;flex-direction: column;z-index: 1;position: relative;background-color: white;}#sk-container-id-1 div.sk-parallel-item:first-child::after {align-self: flex-end;width: 50%;}#sk-container-id-1 div.sk-parallel-item:last-child::after {align-self: flex-start;width: 50%;}#sk-container-id-1 div.sk-parallel-item:only-child::after {width: 0;}#sk-container-id-1 div.sk-dashed-wrapped {border: 1px dashed gray;margin: 0 0.4em 0.5em 0.4em;box-sizing: border-box;padding-bottom: 0.4em;background-color: white;}#sk-container-id-1 div.sk-label label {font-family: monospace;font-weight: bold;display: inline-block;line-height: 1.2em;}#sk-container-id-1 div.sk-label-container {text-align: center;}#sk-container-id-1 div.sk-container {/* jupyter's `normalize.less` sets `[hidden] { display: none; }` but bootstrap.min.css set `[hidden] { display: none !important; }` so we also need the `!important` here to be able to override the default hidden behavior on the sphinx rendered scikit-learn.org. See: https://github.com/scikit-learn/scikit-learn/issues/21755 */display: inline-block !important;position: relative;}#sk-container-id-1 div.sk-text-repr-fallback {display: none;}</style><div id=\"sk-container-id-1\" class=\"sk-top-container\"><div class=\"sk-text-repr-fallback\"><pre>LinearRegression()</pre><b>In a Jupyter environment, please rerun this cell to show the HTML representation or trust the notebook. <br />On GitHub, the HTML representation is unable to render, please try loading this page with nbviewer.org.</b></div><div class=\"sk-container\" hidden><div class=\"sk-item\"><div class=\"sk-estimator sk-toggleable\"><input class=\"sk-toggleable__control sk-hidden--visually\" id=\"sk-estimator-id-1\" type=\"checkbox\" checked><label for=\"sk-estimator-id-1\" class=\"sk-toggleable__label sk-toggleable__label-arrow\">LinearRegression</label><div class=\"sk-toggleable__content\"><pre>LinearRegression()</pre></div></div></div></div></div>"
      ],
      "text/plain": [
       "LinearRegression()"
      ]
     },
     "execution_count": 29,
     "metadata": {},
     "output_type": "execute_result"
    }
   ],
   "source": [
    "from sklearn.linear_model import LinearRegression\n",
    "lr = LinearRegression()\n",
    "lr.fit(x_train, y_train)"
   ]
  },
  {
   "cell_type": "markdown",
   "id": "892f133b",
   "metadata": {
    "papermill": {
     "duration": 0.010985,
     "end_time": "2023-10-02T17:11:34.278876",
     "exception": false,
     "start_time": "2023-10-02T17:11:34.267891",
     "status": "completed"
    },
    "tags": []
   },
   "source": [
    "# Model Evaluation"
   ]
  },
  {
   "cell_type": "code",
   "execution_count": 30,
   "id": "fedafc66",
   "metadata": {
    "execution": {
     "iopub.execute_input": "2023-10-02T17:11:34.303155Z",
     "iopub.status.busy": "2023-10-02T17:11:34.302603Z",
     "iopub.status.idle": "2023-10-02T17:11:34.316406Z",
     "shell.execute_reply": "2023-10-02T17:11:34.315361Z"
    },
    "papermill": {
     "duration": 0.02841,
     "end_time": "2023-10-02T17:11:34.318449",
     "exception": false,
     "start_time": "2023-10-02T17:11:34.290039",
     "status": "completed"
    },
    "tags": []
   },
   "outputs": [
    {
     "name": "stdout",
     "output_type": "stream",
     "text": [
      "Training Score:  0.8737659029014575\n",
      "Testing Score:  0.8942527093054862\n",
      "RMSE:  0.24981309961424952\n"
     ]
    }
   ],
   "source": [
    "from sklearn.metrics import mean_squared_error, r2_score\n",
    "\n",
    "# Predictions\n",
    "y_pred = lr.predict(x_val)\n",
    "\n",
    "# Model Evaluation\n",
    "print('Training Score: ', lr.score(x_train, y_train))\n",
    "print('Testing Score: ', lr.score(x_val, y_val))\n",
    "print('RMSE: ', np.sqrt(mean_squared_error(y_val, lr.predict(x_val))))"
   ]
  },
  {
   "cell_type": "code",
   "execution_count": 31,
   "id": "76a4e0c1",
   "metadata": {
    "execution": {
     "iopub.execute_input": "2023-10-02T17:11:34.343503Z",
     "iopub.status.busy": "2023-10-02T17:11:34.343123Z",
     "iopub.status.idle": "2023-10-02T17:11:34.350813Z",
     "shell.execute_reply": "2023-10-02T17:11:34.349766Z"
    },
    "papermill": {
     "duration": 0.022315,
     "end_time": "2023-10-02T17:11:34.352586",
     "exception": false,
     "start_time": "2023-10-02T17:11:34.330271",
     "status": "completed"
    },
    "tags": []
   },
   "outputs": [
    {
     "name": "stdout",
     "output_type": "stream",
     "text": [
      "Price is USD:  13444.145816079332\n"
     ]
    }
   ],
   "source": [
    "prices = np.expm1(lr.predict(x_val))\n",
    "print(\"Price is USD: \" ,prices[0] * 1219)"
   ]
  },
  {
   "cell_type": "markdown",
   "id": "638c1d05",
   "metadata": {
    "papermill": {
     "duration": 0.011763,
     "end_time": "2023-10-02T17:11:34.375905",
     "exception": false,
     "start_time": "2023-10-02T17:11:34.364142",
     "status": "completed"
    },
    "tags": []
   },
   "source": [
    "# Prediction with Test Data "
   ]
  },
  {
   "cell_type": "code",
   "execution_count": 32,
   "id": "38836fd5",
   "metadata": {
    "execution": {
     "iopub.execute_input": "2023-10-02T17:11:34.400872Z",
     "iopub.status.busy": "2023-10-02T17:11:34.400499Z",
     "iopub.status.idle": "2023-10-02T17:11:34.415663Z",
     "shell.execute_reply": "2023-10-02T17:11:34.414600Z"
    },
    "papermill": {
     "duration": 0.030293,
     "end_time": "2023-10-02T17:11:34.417829",
     "exception": false,
     "start_time": "2023-10-02T17:11:34.387536",
     "status": "completed"
    },
    "tags": []
   },
   "outputs": [],
   "source": [
    "df_test = pd.read_csv('/kaggle/input/used-cars-price-prediction/test-data.csv')"
   ]
  },
  {
   "cell_type": "markdown",
   "id": "2350fe5e",
   "metadata": {
    "papermill": {
     "duration": 0.011097,
     "end_time": "2023-10-02T17:11:34.440551",
     "exception": false,
     "start_time": "2023-10-02T17:11:34.429454",
     "status": "completed"
    },
    "tags": []
   },
   "source": [
    "## Use the same standrization we did above"
   ]
  },
  {
   "cell_type": "code",
   "execution_count": 33,
   "id": "e206ef3a",
   "metadata": {
    "execution": {
     "iopub.execute_input": "2023-10-02T17:11:34.464955Z",
     "iopub.status.busy": "2023-10-02T17:11:34.464335Z",
     "iopub.status.idle": "2023-10-02T17:11:34.482562Z",
     "shell.execute_reply": "2023-10-02T17:11:34.481545Z"
    },
    "papermill": {
     "duration": 0.032859,
     "end_time": "2023-10-02T17:11:34.484568",
     "exception": false,
     "start_time": "2023-10-02T17:11:34.451709",
     "status": "completed"
    },
    "tags": []
   },
   "outputs": [],
   "source": [
    "df_test.columns =df_test.columns.str.lower().str.replace(\" \",\"_\")\n",
    "for col in list(df_test.dtypes[df_test.dtypes == 'object'].index):\n",
    "    df_test[col] = df_test[col].str.lower().str.replace(\" \",\"_\")"
   ]
  },
  {
   "cell_type": "code",
   "execution_count": 34,
   "id": "8f659232",
   "metadata": {
    "execution": {
     "iopub.execute_input": "2023-10-02T17:11:34.509737Z",
     "iopub.status.busy": "2023-10-02T17:11:34.509123Z",
     "iopub.status.idle": "2023-10-02T17:11:34.515294Z",
     "shell.execute_reply": "2023-10-02T17:11:34.514531Z"
    },
    "papermill": {
     "duration": 0.020793,
     "end_time": "2023-10-02T17:11:34.517068",
     "exception": false,
     "start_time": "2023-10-02T17:11:34.496275",
     "status": "completed"
    },
    "tags": []
   },
   "outputs": [],
   "source": [
    "df_test.dropna(inplace=True)"
   ]
  },
  {
   "cell_type": "code",
   "execution_count": 35,
   "id": "031a7c2f",
   "metadata": {
    "execution": {
     "iopub.execute_input": "2023-10-02T17:11:34.542894Z",
     "iopub.status.busy": "2023-10-02T17:11:34.542127Z",
     "iopub.status.idle": "2023-10-02T17:11:34.556262Z",
     "shell.execute_reply": "2023-10-02T17:11:34.555425Z"
    },
    "papermill": {
     "duration": 0.02941,
     "end_time": "2023-10-02T17:11:34.558275",
     "exception": false,
     "start_time": "2023-10-02T17:11:34.528865",
     "status": "completed"
    },
    "tags": []
   },
   "outputs": [],
   "source": [
    "df_test.owner_type = df_test.owner_type.map({'first':1, 'second':2, 'third':3, 'fourth & above':4})\n",
    "df_test.fuel_type = df_test.fuel_type.map({'diesel':1, 'petrol':2, 'cng':3})\n",
    "df_test.transmission =df_test.transmission.map({'manual':1, 'automatic':2})\n",
    "df_test['engine'] = df_test['engine'].str.rstrip('_cc')\n",
    "df_test['power'] = df_test['power'].str.rstrip('_bhp')\n",
    "df_test['mileage'] = df_test['mileage'].str.rstrip('_kmpl')\n",
    "df_test['mileage'] = df_test['mileage'].str.rstrip('_km/kg').astype('float')\n",
    "df_test['engine'] = df_test['engine'].astype('float')\n",
    "df_test['power']=pd.to_numeric(df_test['power'] , errors = 'coerce') \n",
    "df_test['new_price'] = df_test['new_price'].str.rstrip('_lakh')\n",
    "df_test['new_price'] = df_test['new_price'].str.rstrip('_cr').astype('float')"
   ]
  },
  {
   "cell_type": "code",
   "execution_count": 36,
   "id": "6518ff90",
   "metadata": {
    "execution": {
     "iopub.execute_input": "2023-10-02T17:11:34.583712Z",
     "iopub.status.busy": "2023-10-02T17:11:34.582661Z",
     "iopub.status.idle": "2023-10-02T17:11:34.587985Z",
     "shell.execute_reply": "2023-10-02T17:11:34.587001Z"
    },
    "papermill": {
     "duration": 0.019974,
     "end_time": "2023-10-02T17:11:34.589982",
     "exception": false,
     "start_time": "2023-10-02T17:11:34.570008",
     "status": "completed"
    },
    "tags": []
   },
   "outputs": [],
   "source": [
    "target = np.log1p(df_test.new_price)"
   ]
  },
  {
   "cell_type": "code",
   "execution_count": 37,
   "id": "3474540f",
   "metadata": {
    "execution": {
     "iopub.execute_input": "2023-10-02T17:11:34.615623Z",
     "iopub.status.busy": "2023-10-02T17:11:34.614760Z",
     "iopub.status.idle": "2023-10-02T17:11:34.620881Z",
     "shell.execute_reply": "2023-10-02T17:11:34.620182Z"
    },
    "papermill": {
     "duration": 0.020775,
     "end_time": "2023-10-02T17:11:34.622668",
     "exception": false,
     "start_time": "2023-10-02T17:11:34.601893",
     "status": "completed"
    },
    "tags": []
   },
   "outputs": [],
   "source": [
    "df_test.drop(\"name\",inplace=True,axis=1)\n",
    "df_test.drop(\"location\",inplace=True,axis=1)"
   ]
  },
  {
   "cell_type": "code",
   "execution_count": 38,
   "id": "1da550d9",
   "metadata": {
    "execution": {
     "iopub.execute_input": "2023-10-02T17:11:34.646974Z",
     "iopub.status.busy": "2023-10-02T17:11:34.646478Z",
     "iopub.status.idle": "2023-10-02T17:11:34.665115Z",
     "shell.execute_reply": "2023-10-02T17:11:34.664428Z"
    },
    "papermill": {
     "duration": 0.03294,
     "end_time": "2023-10-02T17:11:34.666936",
     "exception": false,
     "start_time": "2023-10-02T17:11:34.633996",
     "status": "completed"
    },
    "tags": []
   },
   "outputs": [
    {
     "data": {
      "text/html": [
       "<div>\n",
       "<style scoped>\n",
       "    .dataframe tbody tr th:only-of-type {\n",
       "        vertical-align: middle;\n",
       "    }\n",
       "\n",
       "    .dataframe tbody tr th {\n",
       "        vertical-align: top;\n",
       "    }\n",
       "\n",
       "    .dataframe thead th {\n",
       "        text-align: right;\n",
       "    }\n",
       "</style>\n",
       "<table border=\"1\" class=\"dataframe\">\n",
       "  <thead>\n",
       "    <tr style=\"text-align: right;\">\n",
       "      <th></th>\n",
       "      <th>unnamed:_0</th>\n",
       "      <th>year</th>\n",
       "      <th>kilometers_driven</th>\n",
       "      <th>fuel_type</th>\n",
       "      <th>transmission</th>\n",
       "      <th>owner_type</th>\n",
       "      <th>mileage</th>\n",
       "      <th>engine</th>\n",
       "      <th>power</th>\n",
       "      <th>seats</th>\n",
       "      <th>new_price</th>\n",
       "    </tr>\n",
       "  </thead>\n",
       "  <tbody>\n",
       "    <tr>\n",
       "      <th>2</th>\n",
       "      <td>2</td>\n",
       "      <td>2017</td>\n",
       "      <td>34000</td>\n",
       "      <td>1</td>\n",
       "      <td>1</td>\n",
       "      <td>1</td>\n",
       "      <td>13.68</td>\n",
       "      <td>2393.0</td>\n",
       "      <td>147.80</td>\n",
       "      <td>7.0</td>\n",
       "      <td>25.27</td>\n",
       "    </tr>\n",
       "    <tr>\n",
       "      <th>30</th>\n",
       "      <td>30</td>\n",
       "      <td>2014</td>\n",
       "      <td>70000</td>\n",
       "      <td>1</td>\n",
       "      <td>1</td>\n",
       "      <td>2</td>\n",
       "      <td>23.59</td>\n",
       "      <td>1364.0</td>\n",
       "      <td>67.06</td>\n",
       "      <td>5.0</td>\n",
       "      <td>9.27</td>\n",
       "    </tr>\n",
       "    <tr>\n",
       "      <th>36</th>\n",
       "      <td>36</td>\n",
       "      <td>2017</td>\n",
       "      <td>13500</td>\n",
       "      <td>2</td>\n",
       "      <td>2</td>\n",
       "      <td>1</td>\n",
       "      <td>14.84</td>\n",
       "      <td>1598.0</td>\n",
       "      <td>103.52</td>\n",
       "      <td>5.0</td>\n",
       "      <td>14.95</td>\n",
       "    </tr>\n",
       "    <tr>\n",
       "      <th>39</th>\n",
       "      <td>39</td>\n",
       "      <td>2012</td>\n",
       "      <td>66889</td>\n",
       "      <td>1</td>\n",
       "      <td>2</td>\n",
       "      <td>1</td>\n",
       "      <td>22.48</td>\n",
       "      <td>1995.0</td>\n",
       "      <td>190.00</td>\n",
       "      <td>5.0</td>\n",
       "      <td>70.43</td>\n",
       "    </tr>\n",
       "    <tr>\n",
       "      <th>43</th>\n",
       "      <td>43</td>\n",
       "      <td>2018</td>\n",
       "      <td>4000</td>\n",
       "      <td>2</td>\n",
       "      <td>1</td>\n",
       "      <td>1</td>\n",
       "      <td>15.41</td>\n",
       "      <td>1598.0</td>\n",
       "      <td>103.52</td>\n",
       "      <td>5.0</td>\n",
       "      <td>11.89</td>\n",
       "    </tr>\n",
       "    <tr>\n",
       "      <th>...</th>\n",
       "      <td>...</td>\n",
       "      <td>...</td>\n",
       "      <td>...</td>\n",
       "      <td>...</td>\n",
       "      <td>...</td>\n",
       "      <td>...</td>\n",
       "      <td>...</td>\n",
       "      <td>...</td>\n",
       "      <td>...</td>\n",
       "      <td>...</td>\n",
       "      <td>...</td>\n",
       "    </tr>\n",
       "    <tr>\n",
       "      <th>1209</th>\n",
       "      <td>1209</td>\n",
       "      <td>2016</td>\n",
       "      <td>41413</td>\n",
       "      <td>1</td>\n",
       "      <td>1</td>\n",
       "      <td>1</td>\n",
       "      <td>27.28</td>\n",
       "      <td>1047.0</td>\n",
       "      <td>69.00</td>\n",
       "      <td>5.0</td>\n",
       "      <td>7.06</td>\n",
       "    </tr>\n",
       "    <tr>\n",
       "      <th>1212</th>\n",
       "      <td>1212</td>\n",
       "      <td>2017</td>\n",
       "      <td>39015</td>\n",
       "      <td>2</td>\n",
       "      <td>1</td>\n",
       "      <td>1</td>\n",
       "      <td>17.00</td>\n",
       "      <td>1497.0</td>\n",
       "      <td>121.36</td>\n",
       "      <td>5.0</td>\n",
       "      <td>8.79</td>\n",
       "    </tr>\n",
       "    <tr>\n",
       "      <th>1213</th>\n",
       "      <td>1213</td>\n",
       "      <td>2018</td>\n",
       "      <td>6000</td>\n",
       "      <td>2</td>\n",
       "      <td>1</td>\n",
       "      <td>1</td>\n",
       "      <td>16.00</td>\n",
       "      <td>1368.0</td>\n",
       "      <td>160.00</td>\n",
       "      <td>5.0</td>\n",
       "      <td>18.16</td>\n",
       "    </tr>\n",
       "    <tr>\n",
       "      <th>1216</th>\n",
       "      <td>1216</td>\n",
       "      <td>2017</td>\n",
       "      <td>21380</td>\n",
       "      <td>1</td>\n",
       "      <td>1</td>\n",
       "      <td>1</td>\n",
       "      <td>24.30</td>\n",
       "      <td>1248.0</td>\n",
       "      <td>88.50</td>\n",
       "      <td>5.0</td>\n",
       "      <td>10.57</td>\n",
       "    </tr>\n",
       "    <tr>\n",
       "      <th>1217</th>\n",
       "      <td>1217</td>\n",
       "      <td>2018</td>\n",
       "      <td>23955</td>\n",
       "      <td>2</td>\n",
       "      <td>1</td>\n",
       "      <td>1</td>\n",
       "      <td>18.60</td>\n",
       "      <td>1197.0</td>\n",
       "      <td>81.86</td>\n",
       "      <td>5.0</td>\n",
       "      <td>7.08</td>\n",
       "    </tr>\n",
       "  </tbody>\n",
       "</table>\n",
       "<p>182 rows × 11 columns</p>\n",
       "</div>"
      ],
      "text/plain": [
       "      unnamed:_0  year  kilometers_driven  fuel_type  transmission  \\\n",
       "2              2  2017              34000          1             1   \n",
       "30            30  2014              70000          1             1   \n",
       "36            36  2017              13500          2             2   \n",
       "39            39  2012              66889          1             2   \n",
       "43            43  2018               4000          2             1   \n",
       "...          ...   ...                ...        ...           ...   \n",
       "1209        1209  2016              41413          1             1   \n",
       "1212        1212  2017              39015          2             1   \n",
       "1213        1213  2018               6000          2             1   \n",
       "1216        1216  2017              21380          1             1   \n",
       "1217        1217  2018              23955          2             1   \n",
       "\n",
       "      owner_type  mileage  engine   power  seats  new_price  \n",
       "2              1    13.68  2393.0  147.80    7.0      25.27  \n",
       "30             2    23.59  1364.0   67.06    5.0       9.27  \n",
       "36             1    14.84  1598.0  103.52    5.0      14.95  \n",
       "39             1    22.48  1995.0  190.00    5.0      70.43  \n",
       "43             1    15.41  1598.0  103.52    5.0      11.89  \n",
       "...          ...      ...     ...     ...    ...        ...  \n",
       "1209           1    27.28  1047.0   69.00    5.0       7.06  \n",
       "1212           1    17.00  1497.0  121.36    5.0       8.79  \n",
       "1213           1    16.00  1368.0  160.00    5.0      18.16  \n",
       "1216           1    24.30  1248.0   88.50    5.0      10.57  \n",
       "1217           1    18.60  1197.0   81.86    5.0       7.08  \n",
       "\n",
       "[182 rows x 11 columns]"
      ]
     },
     "execution_count": 38,
     "metadata": {},
     "output_type": "execute_result"
    }
   ],
   "source": [
    "df_test"
   ]
  },
  {
   "cell_type": "code",
   "execution_count": 39,
   "id": "67484a7e",
   "metadata": {
    "execution": {
     "iopub.execute_input": "2023-10-02T17:11:34.692453Z",
     "iopub.status.busy": "2023-10-02T17:11:34.691603Z",
     "iopub.status.idle": "2023-10-02T17:11:34.702688Z",
     "shell.execute_reply": "2023-10-02T17:11:34.701613Z"
    },
    "papermill": {
     "duration": 0.025578,
     "end_time": "2023-10-02T17:11:34.704382",
     "exception": false,
     "start_time": "2023-10-02T17:11:34.678804",
     "status": "completed"
    },
    "tags": []
   },
   "outputs": [
    {
     "name": "stdout",
     "output_type": "stream",
     "text": [
      "Testing Score:  0.37895573413758754\n",
      "RMSE:  0.6000104179987423\n"
     ]
    }
   ],
   "source": [
    "from sklearn.metrics import mean_squared_error, r2_score\n",
    "\n",
    "# Predictions\n",
    "y_pred = lr.predict(df_test)\n",
    "\n",
    "# Model Evaluation\n",
    "print('Testing Score: ', lr.score(df_test, target))\n",
    "print('RMSE: ', np.sqrt(mean_squared_error(target, lr.predict(df_test))))"
   ]
  }
 ],
 "metadata": {
  "kernelspec": {
   "display_name": "Python 3",
   "language": "python",
   "name": "python3"
  },
  "language_info": {
   "codemirror_mode": {
    "name": "ipython",
    "version": 3
   },
   "file_extension": ".py",
   "mimetype": "text/x-python",
   "name": "python",
   "nbconvert_exporter": "python",
   "pygments_lexer": "ipython3",
   "version": "3.10.12"
  },
  "papermill": {
   "default_parameters": {},
   "duration": 8.273593,
   "end_time": "2023-10-02T17:11:35.336011",
   "environment_variables": {},
   "exception": null,
   "input_path": "__notebook__.ipynb",
   "output_path": "__notebook__.ipynb",
   "parameters": {},
   "start_time": "2023-10-02T17:11:27.062418",
   "version": "2.4.0"
  }
 },
 "nbformat": 4,
 "nbformat_minor": 5
}
